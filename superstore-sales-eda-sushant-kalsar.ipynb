{
 "cells": [
  {
   "cell_type": "markdown",
   "id": "098d0449",
   "metadata": {
    "papermill": {
     "duration": 0.0064,
     "end_time": "2025-09-05T14:37:01.767308",
     "exception": false,
     "start_time": "2025-09-05T14:37:01.760908",
     "status": "completed"
    },
    "tags": []
   },
   "source": [
    "# Superstore Dataset Analysis"
   ]
  },
  {
   "cell_type": "markdown",
   "id": "18c2caa1",
   "metadata": {
    "papermill": {
     "duration": 0.005411,
     "end_time": "2025-09-05T14:37:01.778638",
     "exception": false,
     "start_time": "2025-09-05T14:37:01.773227",
     "status": "completed"
    },
    "tags": []
   },
   "source": [
    "#### * Importing Libraries"
   ]
  },
  {
   "cell_type": "code",
   "execution_count": 1,
   "id": "0a3f9862",
   "metadata": {
    "execution": {
     "iopub.execute_input": "2025-09-05T14:37:01.791000Z",
     "iopub.status.busy": "2025-09-05T14:37:01.790323Z",
     "iopub.status.idle": "2025-09-05T14:37:05.824952Z",
     "shell.execute_reply": "2025-09-05T14:37:05.824006Z"
    },
    "papermill": {
     "duration": 4.042604,
     "end_time": "2025-09-05T14:37:05.826707",
     "exception": false,
     "start_time": "2025-09-05T14:37:01.784103",
     "status": "completed"
    },
    "tags": []
   },
   "outputs": [],
   "source": [
    "import pandas as pd\n",
    "import seaborn as sns\n",
    "import matplotlib.pyplot as plt\n",
    "import sqlite3\n",
    "import warnings\n",
    "warnings.filterwarnings('ignore')"
   ]
  },
  {
   "cell_type": "markdown",
   "id": "d6f55e79",
   "metadata": {
    "papermill": {
     "duration": 0.005231,
     "end_time": "2025-09-05T14:37:05.837776",
     "exception": false,
     "start_time": "2025-09-05T14:37:05.832545",
     "status": "completed"
    },
    "tags": []
   },
   "source": [
    "#### * Loading the data"
   ]
  },
  {
   "cell_type": "code",
   "execution_count": 2,
   "id": "7b22caad",
   "metadata": {
    "execution": {
     "iopub.execute_input": "2025-09-05T14:37:05.850139Z",
     "iopub.status.busy": "2025-09-05T14:37:05.849668Z",
     "iopub.status.idle": "2025-09-05T14:37:06.563165Z",
     "shell.execute_reply": "2025-09-05T14:37:06.562123Z"
    },
    "papermill": {
     "duration": 0.721542,
     "end_time": "2025-09-05T14:37:06.564788",
     "exception": false,
     "start_time": "2025-09-05T14:37:05.843246",
     "status": "completed"
    },
    "tags": []
   },
   "outputs": [
    {
     "name": "stdout",
     "output_type": "stream",
     "text": [
      "(51290, 27)\n",
      "<class 'pandas.core.frame.DataFrame'>\n",
      "RangeIndex: 51290 entries, 0 to 51289\n",
      "Data columns (total 27 columns):\n",
      " #   Column          Non-Null Count  Dtype  \n",
      "---  ------          --------------  -----  \n",
      " 0   Category        51290 non-null  object \n",
      " 1   City            51290 non-null  object \n",
      " 2   Country         51290 non-null  object \n",
      " 3   Customer.ID     51290 non-null  object \n",
      " 4   Customer.Name   51290 non-null  object \n",
      " 5   Discount        51290 non-null  float64\n",
      " 6   Market          51290 non-null  object \n",
      " 7   记录数             51290 non-null  int64  \n",
      " 8   Order.Date      51290 non-null  object \n",
      " 9   Order.ID        51290 non-null  object \n",
      " 10  Order.Priority  51290 non-null  object \n",
      " 11  Product.ID      51290 non-null  object \n",
      " 12  Product.Name    51290 non-null  object \n",
      " 13  Profit          51290 non-null  float64\n",
      " 14  Quantity        51290 non-null  int64  \n",
      " 15  Region          51290 non-null  object \n",
      " 16  Row.ID          51290 non-null  int64  \n",
      " 17  Sales           51290 non-null  int64  \n",
      " 18  Segment         51290 non-null  object \n",
      " 19  Ship.Date       51290 non-null  object \n",
      " 20  Ship.Mode       51290 non-null  object \n",
      " 21  Shipping.Cost   51290 non-null  float64\n",
      " 22  State           51290 non-null  object \n",
      " 23  Sub.Category    51290 non-null  object \n",
      " 24  Year            51290 non-null  int64  \n",
      " 25  Market2         51290 non-null  object \n",
      " 26  weeknum         51290 non-null  int64  \n",
      "dtypes: float64(3), int64(6), object(18)\n",
      "memory usage: 10.6+ MB\n",
      "None\n"
     ]
    },
    {
     "data": {
      "text/html": [
       "<div>\n",
       "<style scoped>\n",
       "    .dataframe tbody tr th:only-of-type {\n",
       "        vertical-align: middle;\n",
       "    }\n",
       "\n",
       "    .dataframe tbody tr th {\n",
       "        vertical-align: top;\n",
       "    }\n",
       "\n",
       "    .dataframe thead th {\n",
       "        text-align: right;\n",
       "    }\n",
       "</style>\n",
       "<table border=\"1\" class=\"dataframe\">\n",
       "  <thead>\n",
       "    <tr style=\"text-align: right;\">\n",
       "      <th></th>\n",
       "      <th>Category</th>\n",
       "      <th>City</th>\n",
       "      <th>Country</th>\n",
       "      <th>Customer.ID</th>\n",
       "      <th>Customer.Name</th>\n",
       "      <th>Discount</th>\n",
       "      <th>Market</th>\n",
       "      <th>记录数</th>\n",
       "      <th>Order.Date</th>\n",
       "      <th>Order.ID</th>\n",
       "      <th>...</th>\n",
       "      <th>Sales</th>\n",
       "      <th>Segment</th>\n",
       "      <th>Ship.Date</th>\n",
       "      <th>Ship.Mode</th>\n",
       "      <th>Shipping.Cost</th>\n",
       "      <th>State</th>\n",
       "      <th>Sub.Category</th>\n",
       "      <th>Year</th>\n",
       "      <th>Market2</th>\n",
       "      <th>weeknum</th>\n",
       "    </tr>\n",
       "  </thead>\n",
       "  <tbody>\n",
       "    <tr>\n",
       "      <th>0</th>\n",
       "      <td>Office Supplies</td>\n",
       "      <td>Los Angeles</td>\n",
       "      <td>United States</td>\n",
       "      <td>LS-172304</td>\n",
       "      <td>Lycoris Saunders</td>\n",
       "      <td>0.0</td>\n",
       "      <td>US</td>\n",
       "      <td>1</td>\n",
       "      <td>2011-01-07 00:00:00.000</td>\n",
       "      <td>CA-2011-130813</td>\n",
       "      <td>...</td>\n",
       "      <td>19</td>\n",
       "      <td>Consumer</td>\n",
       "      <td>2011-01-09 00:00:00.000</td>\n",
       "      <td>Second Class</td>\n",
       "      <td>4.37</td>\n",
       "      <td>California</td>\n",
       "      <td>Paper</td>\n",
       "      <td>2011</td>\n",
       "      <td>North America</td>\n",
       "      <td>2</td>\n",
       "    </tr>\n",
       "    <tr>\n",
       "      <th>1</th>\n",
       "      <td>Office Supplies</td>\n",
       "      <td>Los Angeles</td>\n",
       "      <td>United States</td>\n",
       "      <td>MV-174854</td>\n",
       "      <td>Mark Van Huff</td>\n",
       "      <td>0.0</td>\n",
       "      <td>US</td>\n",
       "      <td>1</td>\n",
       "      <td>2011-01-21 00:00:00.000</td>\n",
       "      <td>CA-2011-148614</td>\n",
       "      <td>...</td>\n",
       "      <td>19</td>\n",
       "      <td>Consumer</td>\n",
       "      <td>2011-01-26 00:00:00.000</td>\n",
       "      <td>Standard Class</td>\n",
       "      <td>0.94</td>\n",
       "      <td>California</td>\n",
       "      <td>Paper</td>\n",
       "      <td>2011</td>\n",
       "      <td>North America</td>\n",
       "      <td>4</td>\n",
       "    </tr>\n",
       "    <tr>\n",
       "      <th>2</th>\n",
       "      <td>Office Supplies</td>\n",
       "      <td>Los Angeles</td>\n",
       "      <td>United States</td>\n",
       "      <td>CS-121304</td>\n",
       "      <td>Chad Sievert</td>\n",
       "      <td>0.0</td>\n",
       "      <td>US</td>\n",
       "      <td>1</td>\n",
       "      <td>2011-08-05 00:00:00.000</td>\n",
       "      <td>CA-2011-118962</td>\n",
       "      <td>...</td>\n",
       "      <td>21</td>\n",
       "      <td>Consumer</td>\n",
       "      <td>2011-08-09 00:00:00.000</td>\n",
       "      <td>Standard Class</td>\n",
       "      <td>1.81</td>\n",
       "      <td>California</td>\n",
       "      <td>Paper</td>\n",
       "      <td>2011</td>\n",
       "      <td>North America</td>\n",
       "      <td>32</td>\n",
       "    </tr>\n",
       "    <tr>\n",
       "      <th>3</th>\n",
       "      <td>Office Supplies</td>\n",
       "      <td>Los Angeles</td>\n",
       "      <td>United States</td>\n",
       "      <td>CS-121304</td>\n",
       "      <td>Chad Sievert</td>\n",
       "      <td>0.0</td>\n",
       "      <td>US</td>\n",
       "      <td>1</td>\n",
       "      <td>2011-08-05 00:00:00.000</td>\n",
       "      <td>CA-2011-118962</td>\n",
       "      <td>...</td>\n",
       "      <td>111</td>\n",
       "      <td>Consumer</td>\n",
       "      <td>2011-08-09 00:00:00.000</td>\n",
       "      <td>Standard Class</td>\n",
       "      <td>4.59</td>\n",
       "      <td>California</td>\n",
       "      <td>Paper</td>\n",
       "      <td>2011</td>\n",
       "      <td>North America</td>\n",
       "      <td>32</td>\n",
       "    </tr>\n",
       "    <tr>\n",
       "      <th>4</th>\n",
       "      <td>Office Supplies</td>\n",
       "      <td>Los Angeles</td>\n",
       "      <td>United States</td>\n",
       "      <td>AP-109154</td>\n",
       "      <td>Arthur Prichep</td>\n",
       "      <td>0.0</td>\n",
       "      <td>US</td>\n",
       "      <td>1</td>\n",
       "      <td>2011-09-29 00:00:00.000</td>\n",
       "      <td>CA-2011-146969</td>\n",
       "      <td>...</td>\n",
       "      <td>6</td>\n",
       "      <td>Consumer</td>\n",
       "      <td>2011-10-03 00:00:00.000</td>\n",
       "      <td>Standard Class</td>\n",
       "      <td>1.32</td>\n",
       "      <td>California</td>\n",
       "      <td>Paper</td>\n",
       "      <td>2011</td>\n",
       "      <td>North America</td>\n",
       "      <td>40</td>\n",
       "    </tr>\n",
       "  </tbody>\n",
       "</table>\n",
       "<p>5 rows × 27 columns</p>\n",
       "</div>"
      ],
      "text/plain": [
       "          Category         City        Country Customer.ID     Customer.Name  \\\n",
       "0  Office Supplies  Los Angeles  United States   LS-172304  Lycoris Saunders   \n",
       "1  Office Supplies  Los Angeles  United States   MV-174854     Mark Van Huff   \n",
       "2  Office Supplies  Los Angeles  United States   CS-121304      Chad Sievert   \n",
       "3  Office Supplies  Los Angeles  United States   CS-121304      Chad Sievert   \n",
       "4  Office Supplies  Los Angeles  United States   AP-109154    Arthur Prichep   \n",
       "\n",
       "   Discount Market  记录数               Order.Date        Order.ID  ... Sales  \\\n",
       "0       0.0     US    1  2011-01-07 00:00:00.000  CA-2011-130813  ...    19   \n",
       "1       0.0     US    1  2011-01-21 00:00:00.000  CA-2011-148614  ...    19   \n",
       "2       0.0     US    1  2011-08-05 00:00:00.000  CA-2011-118962  ...    21   \n",
       "3       0.0     US    1  2011-08-05 00:00:00.000  CA-2011-118962  ...   111   \n",
       "4       0.0     US    1  2011-09-29 00:00:00.000  CA-2011-146969  ...     6   \n",
       "\n",
       "    Segment                Ship.Date       Ship.Mode  Shipping.Cost  \\\n",
       "0  Consumer  2011-01-09 00:00:00.000    Second Class           4.37   \n",
       "1  Consumer  2011-01-26 00:00:00.000  Standard Class           0.94   \n",
       "2  Consumer  2011-08-09 00:00:00.000  Standard Class           1.81   \n",
       "3  Consumer  2011-08-09 00:00:00.000  Standard Class           4.59   \n",
       "4  Consumer  2011-10-03 00:00:00.000  Standard Class           1.32   \n",
       "\n",
       "        State  Sub.Category  Year        Market2 weeknum  \n",
       "0  California         Paper  2011  North America       2  \n",
       "1  California         Paper  2011  North America       4  \n",
       "2  California         Paper  2011  North America      32  \n",
       "3  California         Paper  2011  North America      32  \n",
       "4  California         Paper  2011  North America      40  \n",
       "\n",
       "[5 rows x 27 columns]"
      ]
     },
     "execution_count": 2,
     "metadata": {},
     "output_type": "execute_result"
    }
   ],
   "source": [
    "\n",
    "# Load the data\n",
    "df = pd.read_csv(\"/kaggle/input/superstore-dataset/superstore.csv\")\n",
    "\n",
    "# Basic info\n",
    "print(df.shape)\n",
    "print(df.info())\n",
    "\n",
    "# View sample\n",
    "df.head()\n"
   ]
  },
  {
   "cell_type": "markdown",
   "id": "041e4955",
   "metadata": {
    "papermill": {
     "duration": 0.005753,
     "end_time": "2025-09-05T14:37:06.577698",
     "exception": false,
     "start_time": "2025-09-05T14:37:06.571945",
     "status": "completed"
    },
    "tags": []
   },
   "source": [
    "## Step 1: Initial Data Overview\n",
    "\n",
    "Shape: 51,290 rows × 27 columns.\n",
    "\n",
    "### Data Types:\n",
    "\n",
    "        --> 18 columns are of type object (mostly categorical or date strings).\n",
    "\n",
    "        --> 6 columns are int64.\n",
    "\n",
    "        --> 3 columns are float64.\n",
    "\n",
    "        --> No null values were detected.\n",
    "\n",
    "        --> One column has a garbled name: è®°å½æ°, which likely needs renaming.\n",
    "\n"
   ]
  },
  {
   "cell_type": "markdown",
   "id": "b7b4be17",
   "metadata": {
    "papermill": {
     "duration": 0.005538,
     "end_time": "2025-09-05T14:37:06.589242",
     "exception": false,
     "start_time": "2025-09-05T14:37:06.583704",
     "status": "completed"
    },
    "tags": []
   },
   "source": [
    "## Step 2: Data Cleaning\n",
    "\n",
    "    Actions:\n",
    "\n",
    "        --> Rename the garbled column.\n",
    "\n",
    "        --> Convert Order.Date and Ship.Date to datetime format."
   ]
  },
  {
   "cell_type": "code",
   "execution_count": 3,
   "id": "2e8c7e50",
   "metadata": {
    "execution": {
     "iopub.execute_input": "2025-09-05T14:37:06.602439Z",
     "iopub.status.busy": "2025-09-05T14:37:06.602082Z",
     "iopub.status.idle": "2025-09-05T14:37:06.638655Z",
     "shell.execute_reply": "2025-09-05T14:37:06.637359Z"
    },
    "papermill": {
     "duration": 0.045294,
     "end_time": "2025-09-05T14:37:06.640481",
     "exception": false,
     "start_time": "2025-09-05T14:37:06.595187",
     "status": "completed"
    },
    "tags": []
   },
   "outputs": [],
   "source": [
    "# Rename garbled column\n",
    "df.rename(columns={\"è®°å½æ°\": \"Record.Count\"}, inplace=True)\n",
    "\n",
    "# Convert date columns\n",
    "df['Order.Date'] = pd.to_datetime(df['Order.Date'], errors='coerce')\n",
    "df['Ship.Date'] = pd.to_datetime(df['Ship.Date'], errors='coerce')\n",
    "\n",
    "# Create useful derived columns\n",
    "df['Order_Month'] = df['Order.Date'].dt.to_period('M')\n"
   ]
  },
  {
   "cell_type": "markdown",
   "id": "6db77ca2",
   "metadata": {
    "papermill": {
     "duration": 0.005741,
     "end_time": "2025-09-05T14:37:06.652226",
     "exception": false,
     "start_time": "2025-09-05T14:37:06.646485",
     "status": "completed"
    },
    "tags": []
   },
   "source": [
    "#### 💡 Insights:\n",
    "\n",
    "        --> Proper dates help with time series analysis.\n",
    "\n",
    "        --> Clean column names are easier to work with.\n"
   ]
  },
  {
   "cell_type": "markdown",
   "id": "ad030ddd",
   "metadata": {
    "papermill": {
     "duration": 0.005729,
     "end_time": "2025-09-05T14:37:06.663851",
     "exception": false,
     "start_time": "2025-09-05T14:37:06.658122",
     "status": "completed"
    },
    "tags": []
   },
   "source": [
    "## Step 3: Exploratory Data Analysis (EDA)\n",
    "\n",
    "    Analyzing:\n",
    "\n",
    "        --> Sales trends over time.\n",
    "\n",
    "        --> Profitability by Category/Sub-Category.\n",
    "\n",
    "        --> Performance by Country and Market.\n",
    "\n",
    "        --> Impact of Shipping Cost and Discount."
   ]
  },
  {
   "cell_type": "code",
   "execution_count": 4,
   "id": "c011ea58",
   "metadata": {
    "execution": {
     "iopub.execute_input": "2025-09-05T14:37:06.676851Z",
     "iopub.status.busy": "2025-09-05T14:37:06.676531Z",
     "iopub.status.idle": "2025-09-05T14:37:06.699040Z",
     "shell.execute_reply": "2025-09-05T14:37:06.697967Z"
    },
    "papermill": {
     "duration": 0.030939,
     "end_time": "2025-09-05T14:37:06.700583",
     "exception": false,
     "start_time": "2025-09-05T14:37:06.669644",
     "status": "completed"
    },
    "tags": []
   },
   "outputs": [
    {
     "name": "stdout",
     "output_type": "stream",
     "text": [
      "0\n"
     ]
    }
   ],
   "source": [
    "df['Order.Date'] = pd.to_datetime(df['Order.Date'], errors='coerce')\n",
    "print(df['Order.Date'].isna().sum())  # should be 0\n"
   ]
  },
  {
   "cell_type": "code",
   "execution_count": 5,
   "id": "6e976936",
   "metadata": {
    "execution": {
     "iopub.execute_input": "2025-09-05T14:37:06.714758Z",
     "iopub.status.busy": "2025-09-05T14:37:06.713761Z",
     "iopub.status.idle": "2025-09-05T14:37:06.731195Z",
     "shell.execute_reply": "2025-09-05T14:37:06.730013Z"
    },
    "papermill": {
     "duration": 0.026061,
     "end_time": "2025-09-05T14:37:06.732823",
     "exception": false,
     "start_time": "2025-09-05T14:37:06.706762",
     "status": "completed"
    },
    "tags": []
   },
   "outputs": [
    {
     "name": "stdout",
     "output_type": "stream",
     "text": [
      "0   2011-01-07\n",
      "1   2011-01-21\n",
      "2   2011-08-05\n",
      "3   2011-08-05\n",
      "4   2011-09-29\n",
      "Name: Order.Date, dtype: datetime64[ns]\n"
     ]
    }
   ],
   "source": [
    "df['Order.Date'] = pd.to_datetime(df['Order.Date'], format='%d-%m-%Y', errors='coerce')  # or '%m/%d/%Y'\n",
    "\n",
    "print(df['Order.Date'].head())\n"
   ]
  },
  {
   "cell_type": "code",
   "execution_count": 6,
   "id": "8a9da0db",
   "metadata": {
    "execution": {
     "iopub.execute_input": "2025-09-05T14:37:06.747071Z",
     "iopub.status.busy": "2025-09-05T14:37:06.746165Z",
     "iopub.status.idle": "2025-09-05T14:37:06.754723Z",
     "shell.execute_reply": "2025-09-05T14:37:06.753764Z"
    },
    "papermill": {
     "duration": 0.017433,
     "end_time": "2025-09-05T14:37:06.756335",
     "exception": false,
     "start_time": "2025-09-05T14:37:06.738902",
     "status": "completed"
    },
    "tags": []
   },
   "outputs": [],
   "source": [
    "df['Order_Month'] = df['Order.Date'].dt.to_period('M')\n"
   ]
  },
  {
   "cell_type": "code",
   "execution_count": 7,
   "id": "b662a599",
   "metadata": {
    "execution": {
     "iopub.execute_input": "2025-09-05T14:37:06.770042Z",
     "iopub.status.busy": "2025-09-05T14:37:06.769722Z",
     "iopub.status.idle": "2025-09-05T14:37:06.782548Z",
     "shell.execute_reply": "2025-09-05T14:37:06.781358Z"
    },
    "papermill": {
     "duration": 0.021706,
     "end_time": "2025-09-05T14:37:06.784294",
     "exception": false,
     "start_time": "2025-09-05T14:37:06.762588",
     "status": "completed"
    },
    "tags": []
   },
   "outputs": [
    {
     "name": "stdout",
     "output_type": "stream",
     "text": [
      "Order_Month\n",
      "2011-01     433\n",
      "2011-02     378\n",
      "2011-03     539\n",
      "2011-04     564\n",
      "2011-05     566\n",
      "2011-06     917\n",
      "2011-07     495\n",
      "2011-08     878\n",
      "2011-09    1052\n",
      "2011-10     774\n",
      "2011-11    1139\n",
      "2011-12    1263\n",
      "2012-01     539\n",
      "2012-02     429\n",
      "2012-03     662\n",
      "2012-04     657\n",
      "2012-05     840\n",
      "2012-06    1136\n",
      "2012-07     659\n",
      "2012-08    1083\n",
      "2012-09    1223\n",
      "2012-10     990\n",
      "2012-11    1460\n",
      "2012-12    1284\n",
      "2013-01     709\n",
      "2013-02     605\n",
      "2013-03     766\n",
      "2013-04     785\n",
      "2013-05    1057\n",
      "2013-06    1530\n",
      "2013-07     925\n",
      "2013-08    1442\n",
      "2013-09    1682\n",
      "2013-10    1100\n",
      "2013-11    1596\n",
      "2013-12    1602\n",
      "2014-01     918\n",
      "2014-02     756\n",
      "2014-03    1068\n",
      "2014-04    1051\n",
      "2014-05    1284\n",
      "2014-06    1748\n",
      "2014-07    1087\n",
      "2014-08    1675\n",
      "2014-09    2018\n",
      "2014-10    1626\n",
      "2014-11    2147\n",
      "2014-12    2153\n",
      "Freq: M, Name: count, dtype: int64\n"
     ]
    }
   ],
   "source": [
    "print(df['Order_Month'].value_counts().sort_index())\n"
   ]
  },
  {
   "cell_type": "code",
   "execution_count": 8,
   "id": "febb5723",
   "metadata": {
    "execution": {
     "iopub.execute_input": "2025-09-05T14:37:06.798329Z",
     "iopub.status.busy": "2025-09-05T14:37:06.798016Z",
     "iopub.status.idle": "2025-09-05T14:37:06.812478Z",
     "shell.execute_reply": "2025-09-05T14:37:06.811425Z"
    },
    "papermill": {
     "duration": 0.023456,
     "end_time": "2025-09-05T14:37:06.814092",
     "exception": false,
     "start_time": "2025-09-05T14:37:06.790636",
     "status": "completed"
    },
    "tags": []
   },
   "outputs": [
    {
     "name": "stdout",
     "output_type": "stream",
     "text": [
      "  Order_Month   Sales       Profit\n",
      "0     2011-01   98902   8321.80096\n",
      "1     2011-02   91152  12417.90698\n",
      "2     2011-03  145726  15303.56826\n",
      "3     2011-04  116927  12902.32438\n",
      "4     2011-05  146762  12183.82870\n"
     ]
    }
   ],
   "source": [
    "monthly_metrics = df.groupby('Order_Month')[['Sales', 'Profit']].sum().reset_index()\n",
    "monthly_metrics['Order_Month'] = monthly_metrics['Order_Month'].astype(str)\n",
    "print(monthly_metrics.head())\n"
   ]
  },
  {
   "cell_type": "markdown",
   "id": "577ecc03",
   "metadata": {
    "papermill": {
     "duration": 0.005938,
     "end_time": "2025-09-05T14:37:06.826325",
     "exception": false,
     "start_time": "2025-09-05T14:37:06.820387",
     "status": "completed"
    },
    "tags": []
   },
   "source": [
    "### 📊 Descriptive Statistics (Numerical Columns)\n",
    "\n",
    "#### ✅ Purpose:\n",
    "\n",
    "        --> Understand range, variance, and distribution of numeric columns."
   ]
  },
  {
   "cell_type": "code",
   "execution_count": 9,
   "id": "92a3b443",
   "metadata": {
    "execution": {
     "iopub.execute_input": "2025-09-05T14:37:06.840921Z",
     "iopub.status.busy": "2025-09-05T14:37:06.839882Z",
     "iopub.status.idle": "2025-09-05T14:37:06.888895Z",
     "shell.execute_reply": "2025-09-05T14:37:06.887913Z"
    },
    "papermill": {
     "duration": 0.05777,
     "end_time": "2025-09-05T14:37:06.890538",
     "exception": false,
     "start_time": "2025-09-05T14:37:06.832768",
     "status": "completed"
    },
    "tags": []
   },
   "outputs": [
    {
     "name": "stdout",
     "output_type": "stream",
     "text": [
      "           Discount      记录数                     Order.Date        Profit  \\\n",
      "count  51290.000000  51290.0                          51290  51290.000000   \n",
      "mean       0.142908      1.0  2013-05-11 21:26:49.155780864     28.610982   \n",
      "min        0.000000      1.0            2011-01-01 00:00:00  -6599.978000   \n",
      "25%        0.000000      1.0            2012-06-19 00:00:00      0.000000   \n",
      "50%        0.000000      1.0            2013-07-08 00:00:00      9.240000   \n",
      "75%        0.200000      1.0            2014-05-22 00:00:00     36.810000   \n",
      "max        0.850000      1.0            2014-12-31 00:00:00   8399.976000   \n",
      "std        0.212280      0.0                            NaN    174.340972   \n",
      "\n",
      "           Quantity       Row.ID         Sales                      Ship.Date  \\\n",
      "count  51290.000000  51290.00000  51290.000000                          51290   \n",
      "mean       3.476545  25645.50000    246.498440  2013-05-15 20:42:42.745174272   \n",
      "min        1.000000      1.00000      0.000000            2011-01-03 00:00:00   \n",
      "25%        2.000000  12823.25000     31.000000            2012-06-23 00:00:00   \n",
      "50%        3.000000  25645.50000     85.000000            2013-07-12 00:00:00   \n",
      "75%        5.000000  38467.75000    251.000000            2014-05-26 00:00:00   \n",
      "max       14.000000  51290.00000  22638.000000            2015-01-07 00:00:00   \n",
      "std        2.278766  14806.29199    487.567175                            NaN   \n",
      "\n",
      "       Shipping.Cost          Year       weeknum  \n",
      "count   51290.000000  51290.000000  51290.000000  \n",
      "mean       26.375818   2012.777208     31.287112  \n",
      "min         0.002000   2011.000000      1.000000  \n",
      "25%         2.610000   2012.000000     20.000000  \n",
      "50%         7.790000   2013.000000     33.000000  \n",
      "75%        24.450000   2014.000000     44.000000  \n",
      "max       933.570000   2014.000000     53.000000  \n",
      "std        57.296810      1.098931     14.429795  \n"
     ]
    }
   ],
   "source": [
    "desc_stats = df.describe()\n",
    "print(desc_stats)\n"
   ]
  },
  {
   "cell_type": "markdown",
   "id": "fb5c05e8",
   "metadata": {
    "papermill": {
     "duration": 0.00626,
     "end_time": "2025-09-05T14:37:06.903253",
     "exception": false,
     "start_time": "2025-09-05T14:37:06.896993",
     "status": "completed"
    },
    "tags": []
   },
   "source": [
    "| Metric            | Profit   | Sales    | Quantity | Discount | Shipping Cost |\n",
    "|-------------------|----------|----------|----------|----------|----------------|\n",
    "| **Count**         | 51,290   | 51,290   | 51,290   | 51,290   | 51,290         |\n",
    "| **Mean**          | 28.61    | 246.50   | 3.48     | 0.143    | 26.38          |\n",
    "| **Standard Dev.** | 174.34   | 487.57   | 2.28     | 0.212    | 57.30          |\n",
    "| **Min**           | -6,599.98| 0.00     | 1        | 0.00     | 0.002          |\n",
    "| **Max**           | 8,399.98 | 22,638.00| 14       | 0.85     | 933.57         |"
   ]
  },
  {
   "cell_type": "markdown",
   "id": "46f00053",
   "metadata": {
    "papermill": {
     "duration": 0.005946,
     "end_time": "2025-09-05T14:37:06.915440",
     "exception": false,
     "start_time": "2025-09-05T14:37:06.909494",
     "status": "completed"
    },
    "tags": []
   },
   "source": [
    "#### 🔍 Insights:\n",
    "\n",
    "        --> Some orders are heavily discounted (up to 85%) and may lead to significant losses.\n",
    "\n",
    "        --> Very high variance in shipping cost, indicating room for optimization.\n",
    "\n",
    "        --> Profit can be negative, indicating unprofitable transactions.\n",
    "\n",
    "        --> Sales up to $22K, profits range from -$6.6K to +$8.3K.\n"
   ]
  },
  {
   "cell_type": "markdown",
   "id": "8132f3bd",
   "metadata": {
    "papermill": {
     "duration": 0.006123,
     "end_time": "2025-09-05T14:37:06.927612",
     "exception": false,
     "start_time": "2025-09-05T14:37:06.921489",
     "status": "completed"
    },
    "tags": []
   },
   "source": [
    "### 📋 Categorical Summary\n"
   ]
  },
  {
   "cell_type": "markdown",
   "id": "f9fc3f52",
   "metadata": {
    "papermill": {
     "duration": 0.005899,
     "end_time": "2025-09-05T14:37:06.939635",
     "exception": false,
     "start_time": "2025-09-05T14:37:06.933736",
     "status": "completed"
    },
    "tags": []
   },
   "source": [
    "| Column           | Unique Values |\n",
    "|------------------|---------------|\n",
    "| Order.ID         | 25,035        |\n",
    "| Product.ID       | 10,292        |\n",
    "| Customer.ID      | 4,873         |\n",
    "| Product.Name     | 3,788         |\n",
    "| City             | 3,636         |\n",
    "| State            | 1,094         |\n",
    "| Customer.Name    | 795           |\n",
    "| Country          | 147           |\n",
    "| Sub.Category     | 17            |\n",
    "| Region           | 13            |\n",
    "| Market           | 7             |\n",
    "| Market2          | 6             |\n",
    "| Ship.Mode        | 4             |\n",
    "| Order.Priority   | 4             |\n",
    "| Segment          | 3             |\n",
    "| Category         | 3             |"
   ]
  },
  {
   "cell_type": "markdown",
   "id": "4580f64b",
   "metadata": {
    "papermill": {
     "duration": 0.005822,
     "end_time": "2025-09-05T14:37:06.951596",
     "exception": false,
     "start_time": "2025-09-05T14:37:06.945774",
     "status": "completed"
    },
    "tags": []
   },
   "source": [
    "#### 🔍 Insights:\n",
    "\n",
    "        --> High granularity in customer and product-related columns.\n",
    "\n",
    "        --> Markets and Segments are manageable for segmentation analysis.\n",
    "\n",
    "        --> Sub-Category and Category are perfect candidates for product-level insights.\n"
   ]
  },
  {
   "cell_type": "markdown",
   "id": "5b6d560a",
   "metadata": {
    "papermill": {
     "duration": 0.00616,
     "end_time": "2025-09-05T14:37:06.964179",
     "exception": false,
     "start_time": "2025-09-05T14:37:06.958019",
     "status": "completed"
    },
    "tags": []
   },
   "source": [
    "## 📦 STEP 4: Product Category & Sub-Category Analysis\n"
   ]
  },
  {
   "cell_type": "markdown",
   "id": "ce0b315c",
   "metadata": {
    "papermill": {
     "duration": 0.005912,
     "end_time": "2025-09-05T14:37:06.976313",
     "exception": false,
     "start_time": "2025-09-05T14:37:06.970401",
     "status": "completed"
    },
    "tags": []
   },
   "source": [
    "#### ✅ Purpose:\n",
    "\n",
    "    Identify which products contribute most/least to profit.\n"
   ]
  },
  {
   "cell_type": "code",
   "execution_count": 10,
   "id": "23bd47ab",
   "metadata": {
    "execution": {
     "iopub.execute_input": "2025-09-05T14:37:06.990066Z",
     "iopub.status.busy": "2025-09-05T14:37:06.989713Z",
     "iopub.status.idle": "2025-09-05T14:37:07.602193Z",
     "shell.execute_reply": "2025-09-05T14:37:07.601283Z"
    },
    "papermill": {
     "duration": 0.62132,
     "end_time": "2025-09-05T14:37:07.603768",
     "exception": false,
     "start_time": "2025-09-05T14:37:06.982448",
     "status": "completed"
    },
    "tags": []
   },
   "outputs": [
    {
     "data": {
      "image/png": "[encoded data removed]",
      "text/plain": [
       "<Figure size 1400x800 with 1 Axes>"
      ]
     },
     "metadata": {},
     "output_type": "display_data"
    }
   ],
   "source": [
    "import matplotlib.pyplot as plt\n",
    "import seaborn as sns\n",
    "\n",
    "category_perf = df.groupby(['Category', 'Sub.Category'])[['Sales', 'Profit']].sum().reset_index()\n",
    "\n",
    "plt.figure(figsize=(14, 8))\n",
    "sns.barplot(data=category_perf, x='Profit', y='Sub.Category', hue='Category', dodge=False)\n",
    "plt.title('Profit by Sub-Category and Category')\n",
    "plt.xlabel('Total Profit')\n",
    "plt.ylabel('Sub-Category')\n",
    "plt.tight_layout()\n",
    "plt.show()\n",
    "\n"
   ]
  },
  {
   "cell_type": "markdown",
   "id": "cd435208",
   "metadata": {
    "papermill": {
     "duration": 0.007093,
     "end_time": "2025-09-05T14:37:07.618754",
     "exception": false,
     "start_time": "2025-09-05T14:37:07.611661",
     "status": "completed"
    },
    "tags": []
   },
   "source": [
    "#### 💡 Insights:\n",
    "\n",
    "        --> Copiers and Accessories are top profit makers.\n",
    "\n",
    "        --> Tables and Bookcases are loss leaders.\n",
    "\n",
    "\n",
    "#### 💼 Business Action:\n",
    "\n",
    "        --> Increase focus on profitable products.\n",
    "\n",
    "        --> Optimize pricing/discounting strategy for underperforming categories.\n",
    "        "
   ]
  },
  {
   "cell_type": "markdown",
   "id": "20da6696",
   "metadata": {
    "papermill": {
     "duration": 0.006919,
     "end_time": "2025-09-05T14:37:07.632723",
     "exception": false,
     "start_time": "2025-09-05T14:37:07.625804",
     "status": "completed"
    },
    "tags": []
   },
   "source": [
    "### 🌎 STEP 5: Geographic Performance\n",
    "\n",
    "#### ✅ Purpose:\n",
    "\n",
    "    Identify top-performing countries/regions.\n"
   ]
  },
  {
   "cell_type": "code",
   "execution_count": 11,
   "id": "d6efb31c",
   "metadata": {
    "execution": {
     "iopub.execute_input": "2025-09-05T14:37:07.648805Z",
     "iopub.status.busy": "2025-09-05T14:37:07.647993Z",
     "iopub.status.idle": "2025-09-05T14:37:08.008728Z",
     "shell.execute_reply": "2025-09-05T14:37:08.007752Z"
    },
    "papermill": {
     "duration": 0.370452,
     "end_time": "2025-09-05T14:37:08.010290",
     "exception": false,
     "start_time": "2025-09-05T14:37:07.639838",
     "status": "completed"
    },
    "tags": []
   },
   "outputs": [
    {
     "data": {
      "image/png": "[encoded data removed]",
      "text/plain": [
       "<Figure size 1400x600 with 1 Axes>"
      ]
     },
     "metadata": {},
     "output_type": "display_data"
    }
   ],
   "source": [
    "country_perf = df.groupby('Country')[['Sales', 'Profit']].sum().sort_values(by='Sales', ascending=False).head(15).reset_index()\n",
    "\n",
    "plt.figure(figsize=(14, 6))\n",
    "sns.barplot(data=country_perf, x='Country', y='Sales', color='skyblue', label='Sales')\n",
    "sns.barplot(data=country_perf, x='Country', y='Profit', color='green', label='Profit')\n",
    "plt.title('Top 15 Countries by Sales and Profit')\n",
    "plt.xticks(rotation=45)\n",
    "plt.legend()\n",
    "plt.tight_layout()\n",
    "plt.show()\n"
   ]
  },
  {
   "cell_type": "markdown",
   "id": "618499ca",
   "metadata": {
    "papermill": {
     "duration": 0.008737,
     "end_time": "2025-09-05T14:37:08.027967",
     "exception": false,
     "start_time": "2025-09-05T14:37:08.019230",
     "status": "completed"
    },
    "tags": []
   },
   "source": [
    "#### 💡 Insights:\n",
    "\n",
    "        --> USA, India, and UK lead in both sales and profit.\n",
    "\n",
    "        --> Some countries show strong sales but weak profit.\n",
    "\n",
    "#### 💼 Business Action:\n",
    "\n",
    "        --> Deepen presence in top-performing countries.\n",
    "\n",
    "        --> Audit costs in low-margin regions."
   ]
  },
  {
   "cell_type": "markdown",
   "id": "74f90090",
   "metadata": {
    "papermill": {
     "duration": 0.008362,
     "end_time": "2025-09-05T14:37:08.044956",
     "exception": false,
     "start_time": "2025-09-05T14:37:08.036594",
     "status": "completed"
    },
    "tags": []
   },
   "source": [
    "### 👤 STEP 6: Customer Segment Analysis\n"
   ]
  },
  {
   "cell_type": "markdown",
   "id": "a78ee65e",
   "metadata": {
    "papermill": {
     "duration": 0.008472,
     "end_time": "2025-09-05T14:37:08.062342",
     "exception": false,
     "start_time": "2025-09-05T14:37:08.053870",
     "status": "completed"
    },
    "tags": []
   },
   "source": [
    "#### ✅ Purpose:\n",
    "\n",
    "    Understand how different customer segments contribute to performance."
   ]
  },
  {
   "cell_type": "code",
   "execution_count": 12,
   "id": "7c90cf2f",
   "metadata": {
    "execution": {
     "iopub.execute_input": "2025-09-05T14:37:08.082074Z",
     "iopub.status.busy": "2025-09-05T14:37:08.081706Z",
     "iopub.status.idle": "2025-09-05T14:37:08.314972Z",
     "shell.execute_reply": "2025-09-05T14:37:08.314036Z"
    },
    "papermill": {
     "duration": 0.245371,
     "end_time": "2025-09-05T14:37:08.316552",
     "exception": false,
     "start_time": "2025-09-05T14:37:08.071181",
     "status": "completed"
    },
    "tags": []
   },
   "outputs": [
    {
     "data": {
      "image/png": "[encoded data removed]",
      "text/plain": [
       "<Figure size 1000x600 with 1 Axes>"
      ]
     },
     "metadata": {},
     "output_type": "display_data"
    }
   ],
   "source": [
    "segment_perf = df.groupby('Segment')[['Sales', 'Profit']].sum().reset_index()\n",
    "\n",
    "plt.figure(figsize=(10, 6))\n",
    "sns.barplot(data=segment_perf.melt(id_vars='Segment'), x='Segment', y='value', hue='variable')\n",
    "plt.title('Sales and Profit by Customer Segment')\n",
    "plt.ylabel('Amount')\n",
    "plt.tight_layout()\n",
    "plt.show()\n"
   ]
  },
  {
   "cell_type": "markdown",
   "id": "5621208d",
   "metadata": {
    "papermill": {
     "duration": 0.077934,
     "end_time": "2025-09-05T14:37:08.403844",
     "exception": false,
     "start_time": "2025-09-05T14:37:08.325910",
     "status": "completed"
    },
    "tags": []
   },
   "source": [
    "### 👥 Segment-wise Performance\n",
    "\n",
    "#### 💡 Insights:\n",
    "\n",
    "        --> Consumer and Corporate segments contribute the most to sales and profit.\n",
    "\n",
    "        --> Home Office segment has lower totals but may still be viable with targeted strategies.\n",
    "        \n",
    "\n",
    "#### 💼 Business Action:\n",
    "\n",
    "        --> Continue focusing on Consumer and Corporate segments.\n",
    "\n",
    "        --> Consider targeted promotions to grow the Home Office segment without increasing cost inefficiencies.\n",
    "\n"
   ]
  },
  {
   "cell_type": "markdown",
   "id": "5d4ea86c",
   "metadata": {
    "papermill": {
     "duration": 0.009407,
     "end_time": "2025-09-05T14:37:08.422637",
     "exception": false,
     "start_time": "2025-09-05T14:37:08.413230",
     "status": "completed"
    },
    "tags": []
   },
   "source": [
    "### 🚚 STEP 7: Shipping Mode Impact\n"
   ]
  },
  {
   "cell_type": "markdown",
   "id": "ff19331f",
   "metadata": {
    "papermill": {
     "duration": 0.010981,
     "end_time": "2025-09-05T14:37:08.443239",
     "exception": false,
     "start_time": "2025-09-05T14:37:08.432258",
     "status": "completed"
    },
    "tags": []
   },
   "source": [
    "#### ✅ Purpose:\n",
    "\n",
    "    Evaluate how delivery method affects profitability."
   ]
  },
  {
   "cell_type": "code",
   "execution_count": 13,
   "id": "44341986",
   "metadata": {
    "execution": {
     "iopub.execute_input": "2025-09-05T14:37:08.464293Z",
     "iopub.status.busy": "2025-09-05T14:37:08.463961Z",
     "iopub.status.idle": "2025-09-05T14:37:08.817206Z",
     "shell.execute_reply": "2025-09-05T14:37:08.816339Z"
    },
    "papermill": {
     "duration": 0.365697,
     "end_time": "2025-09-05T14:37:08.818661",
     "exception": false,
     "start_time": "2025-09-05T14:37:08.452964",
     "status": "completed"
    },
    "tags": []
   },
   "outputs": [
    {
     "data": {
      "image/png": "[encoded data removed]",
      "text/plain": [
       "<Figure size 1400x600 with 2 Axes>"
      ]
     },
     "metadata": {},
     "output_type": "display_data"
    }
   ],
   "source": [
    "shipping_perf = df.groupby('Ship.Mode')[['Sales', 'Profit', 'Shipping.Cost']].mean().reset_index()\n",
    "\n",
    "fig, ax = plt.subplots(1, 2, figsize=(14, 6))\n",
    "sns.barplot(data=shipping_perf, x='Ship.Mode', y='Profit', ax=ax[0], palette='Greens_d')\n",
    "ax[0].set_title('Average Profit by Shipping Mode')\n",
    "sns.barplot(data=shipping_perf, x='Ship.Mode', y='Shipping.Cost', ax=ax[1], palette='Reds_d')\n",
    "ax[1].set_title('Average Shipping Cost by Mode')\n",
    "plt.tight_layout()\n",
    "plt.show()\n"
   ]
  },
  {
   "cell_type": "markdown",
   "id": "9c672722",
   "metadata": {
    "papermill": {
     "duration": 0.010588,
     "end_time": "2025-09-05T14:37:08.840857",
     "exception": false,
     "start_time": "2025-09-05T14:37:08.830269",
     "status": "completed"
    },
    "tags": []
   },
   "source": [
    "#### 💡 Insights:\n",
    "\n",
    "        --> Same Day and Second Class deliveries have lower average profit, likely due to high operational costs.\n",
    "\n",
    "        --> Standard Class shows better profitability and manageable shipping costs.\n",
    "\n",
    "\n",
    "#### 💼 Business Action:\n",
    "\n",
    "        --> Encourage Standard Class shipping through pricing incentives.\n",
    "\n",
    "        --> Reassess pricing for Same Day deliveries or introduce minimum order values.\n",
    "\n",
    "        --> Investigate ways to reduce shipping costs for premium delivery services.\n"
   ]
  },
  {
   "cell_type": "markdown",
   "id": "688723a2",
   "metadata": {
    "papermill": {
     "duration": 0.010495,
     "end_time": "2025-09-05T14:37:08.862213",
     "exception": false,
     "start_time": "2025-09-05T14:37:08.851718",
     "status": "completed"
    },
    "tags": []
   },
   "source": [
    "## ✅ Final Summary\n"
   ]
  },
  {
   "cell_type": "markdown",
   "id": "7b4667f9",
   "metadata": {
    "papermill": {
     "duration": 0.010473,
     "end_time": "2025-09-05T14:37:08.883579",
     "exception": false,
     "start_time": "2025-09-05T14:37:08.873106",
     "status": "completed"
    },
    "tags": []
   },
   "source": [
    "| Area                   | Key Insight                                 | Business Recommendation                                   |\n",
    "|------------------------|---------------------------------------------|-----------------------------------------------------------|\n",
    "| Sales Trends           | Year-end spikes                             | Seasonal inventory planning                               |\n",
    "| Product Performance    | Chairs, Tables unprofitable                 | Pricing/discount audits                                   |\n",
    "| Country Performance    | USA, India are top performers               | Invest more in top markets                                |\n",
    "| Customer Segment       | Consumer & Corporate lead                   | Prioritize these segments                                 |\n",
    "| Shipping               | Same Day costly, low ROI                    | Minimize use or charge premium                            |"
   ]
  },
  {
   "cell_type": "code",
   "execution_count": null,
   "id": "91cb818b",
   "metadata": {
    "papermill": {
     "duration": 0.010697,
     "end_time": "2025-09-05T14:37:08.905004",
     "exception": false,
     "start_time": "2025-09-05T14:37:08.894307",
     "status": "completed"
    },
    "tags": []
   },
   "outputs": [],
   "source": []
  }
 ],
 "metadata": {
  "kaggle": {
   "accelerator": "none",
   "dataSources": [
    {
     "datasetId": 8209267,
     "sourceId": 12970550,
     "sourceType": "datasetVersion"
    }
   ],
   "dockerImageVersionId": 31089,
   "isGpuEnabled": false,
   "isInternetEnabled": true,
   "language": "python",
   "sourceType": "notebook"
  },
  "kernelspec": {
   "display_name": "Python 3",
   "language": "python",
   "name": "python3"
  },
  "language_info": {
   "codemirror_mode": {
    "name": "ipython",
    "version": 3
   },
   "file_extension": ".py",
   "mimetype": "text/x-python",
   "name": "python",
   "nbconvert_exporter": "python",
   "pygments_lexer": "ipython3",
   "version": "3.11.13"
  },
  "papermill": {
   "default_parameters": {},
   "duration": 13.615639,
   "end_time": "2025-09-05T14:37:09.636774",
   "environment_variables": {},
   "exception": null,
   "input_path": "__notebook__.ipynb",
   "output_path": "__notebook__.ipynb",
   "parameters": {},
   "start_time": "2025-09-05T14:36:56.021135",
   "version": "2.6.0"
  }
 },
 "nbformat": 4,
 "nbformat_minor": 5
}
